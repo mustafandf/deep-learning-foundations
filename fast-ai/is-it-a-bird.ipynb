{
 "cells": [
  {
   "cell_type": "code",
   "execution_count": 8,
   "id": "ef9b161e",
   "metadata": {},
   "outputs": [
    {
     "name": "stdout",
     "output_type": "stream",
     "text": [
      "Requirement already satisfied: duckduckgo-search in c:\\users\\z004fy1k\\onedrive - siemens healthineers\\learning\\deep learning\\github-repos\\deep-learning-foundations\\venv\\lib\\site-packages (8.0.2)\n",
      "Requirement already satisfied: primp>=0.15.0 in c:\\users\\z004fy1k\\onedrive - siemens healthineers\\learning\\deep learning\\github-repos\\deep-learning-foundations\\venv\\lib\\site-packages (from duckduckgo-search) (0.15.0)\n",
      "Requirement already satisfied: click>=8.1.8 in c:\\users\\z004fy1k\\onedrive - siemens healthineers\\learning\\deep learning\\github-repos\\deep-learning-foundations\\venv\\lib\\site-packages (from duckduckgo-search) (8.1.8)\n",
      "Requirement already satisfied: lxml>=5.3.0 in c:\\users\\z004fy1k\\onedrive - siemens healthineers\\learning\\deep learning\\github-repos\\deep-learning-foundations\\venv\\lib\\site-packages (from duckduckgo-search) (5.4.0)\n",
      "Requirement already satisfied: colorama in c:\\users\\z004fy1k\\onedrive - siemens healthineers\\learning\\deep learning\\github-repos\\deep-learning-foundations\\venv\\lib\\site-packages (from click>=8.1.8->duckduckgo-search) (0.4.6)\n",
      "Note: you may need to restart the kernel to use updated packages.\n"
     ]
    },
    {
     "name": "stderr",
     "output_type": "stream",
     "text": [
      "WARNING: You are using pip version 22.0.4; however, version 25.1.1 is available.\n",
      "You should consider upgrading via the 'c:\\Users\\z004fy1k\\OneDrive - Siemens Healthineers\\Learning\\Deep Learning\\github-repos\\deep-learning-foundations\\venv\\Scripts\\python.exe -m pip install --upgrade pip' command.\n"
     ]
    },
    {
     "name": "stdout",
     "output_type": "stream",
     "text": [
      "Note: you may need to restart the kernel to use updated packages.\n"
     ]
    },
    {
     "name": "stderr",
     "output_type": "stream",
     "text": [
      "  error: subprocess-exited-with-error\n",
      "  \n",
      "  × Building wheel for blis (pyproject.toml) did not run successfully.\n",
      "  │ exit code: 1\n",
      "  ╰─> [36 lines of output]\n",
      "      BLIS_COMPILER? None\n",
      "      C:\\Users\\z004fy1k\\AppData\\Local\\Temp\\pip-build-env-go16oo08\\overlay\\Lib\\site-packages\\setuptools\\dist.py:759: SetuptoolsDeprecationWarning: License classifiers are deprecated.\n",
      "      !!\n",
      "      \n",
      "              ********************************************************************************\n",
      "              Please consider removing the following classifiers in favor of a SPDX license expression:\n",
      "      \n",
      "              License :: OSI Approved :: BSD License\n",
      "      \n",
      "              See https://packaging.python.org/en/latest/guides/writing-pyproject-toml/#license for details.\n",
      "              ********************************************************************************\n",
      "      \n",
      "      !!\n",
      "        self._finalize_license_expression()\n",
      "      running bdist_wheel\n",
      "      running build\n",
      "      running build_py\n",
      "      creating build\\lib.win-amd64-cpython-39\\blis\n",
      "      copying blis\\about.py -> build\\lib.win-amd64-cpython-39\\blis\n",
      "      copying blis\\benchmark.py -> build\\lib.win-amd64-cpython-39\\blis\n",
      "      copying blis\\__init__.py -> build\\lib.win-amd64-cpython-39\\blis\n",
      "      creating build\\lib.win-amd64-cpython-39\\blis\\tests\n",
      "      copying blis\\tests\\common.py -> build\\lib.win-amd64-cpython-39\\blis\\tests\n",
      "      copying blis\\tests\\test_dotv.py -> build\\lib.win-amd64-cpython-39\\blis\\tests\n",
      "      copying blis\\tests\\test_gemm.py -> build\\lib.win-amd64-cpython-39\\blis\\tests\n",
      "      copying blis\\tests\\__init__.py -> build\\lib.win-amd64-cpython-39\\blis\\tests\n",
      "      copying blis\\cy.pyx -> build\\lib.win-amd64-cpython-39\\blis\n",
      "      copying blis\\py.pyx -> build\\lib.win-amd64-cpython-39\\blis\n",
      "      copying blis\\cy.pxd -> build\\lib.win-amd64-cpython-39\\blis\n",
      "      copying blis\\__init__.pxd -> build\\lib.win-amd64-cpython-39\\blis\n",
      "      running build_ext\n",
      "      Build options win32 msvc\n",
      "      BUILD ARCH: x86_64\n",
      "      {'ACLOCAL_PATH': 'C:\\\\Program Files\\\\Git\\\\mingw64\\\\share\\\\aclocal;C:\\\\Program Files\\\\Git\\\\usr\\\\share\\\\aclocal', 'ACTIONS_RUNNER_ACTION_ARCHIVE_CACHE': 'C:\\\\actionarchivecache\\\\', 'AGENT_BUILDDIRECTORY': 'D:\\\\a\\\\1', 'AGENT_CLOUDID': 'cc0b709a-2cb2-4727-8ec5-adb402963aba', 'AGENT_DISABLELOGPLUGIN_TESTFILEPUBLISHERPLUGIN': 'true', 'AGENT_DISABLELOGPLUGIN_TESTRESULTLOGPLUGIN': 'false', 'AGENT_ENABLE_PIPELINEARTIFACT_LARGE_CHUNK_SIZE': 'true', 'AGENT_HOMEDIRECTORY': 'C:\\\\agents\\\\3.248.0', 'AGENT_ID': '93', 'AGENT_ISSELFHOSTED': '0', 'AGENT_JOBNAME': 'JSONL Python39Windows', 'AGENT_JOBSTATUS': 'Succeeded', 'AGENT_LOGTOBLOBSTORAGESERVICE': 'true', 'AGENT_MACHINENAME': 'fv-az618-395', 'AGENT_NAME': 'Azure Pipelines 2', 'AGENT_OS': 'Windows_NT', 'AGENT_OSARCHITECTURE': 'X64', 'AGENT_READONLYVARIABLES': 'true', 'AGENT_RETAINDEFAULTENCODING': 'false', 'AGENT_ROOTDIRECTORY': 'D:\\\\a', 'AGENT_SERVEROMDIRECTORY': 'C:\\\\agents\\\\3.248.0\\\\externals\\\\vstsom', 'AGENT_TASKRESTRICTIONSENFORCEMENTMODE': 'Enabled', 'AGENT_TEMPDIRECTORY': 'D:\\\\a\\\\_temp', 'AGENT_TOOLSDIRECTORY': 'C:\\\\hostedtoolcache\\\\windows', 'AGENT_USEWORKSPACEID': 'true', 'AGENT_USE_FETCH_FILTER_IN_CHECKOUT_TASK': 'true', 'AGENT_VERSION': '4.248.0', 'AGENT_WORKFOLDER': 'D:\\\\a', 'ALLUSERSPROFILE': 'C:\\\\ProgramData', 'ANDROID_HOME': 'C:\\\\Android\\\\android-sdk', 'ANDROID_NDK': 'C:\\\\Android\\\\android-sdk\\\\ndk\\\\27.2.12479018', 'ANDROID_NDK_HOME': 'C:\\\\Android\\\\android-sdk\\\\ndk\\\\27.2.12479018', 'ANDROID_NDK_LATEST_HOME': 'C:\\\\Android\\\\android-sdk\\\\ndk\\\\27.2.12479018', 'ANDROID_NDK_ROOT': 'C:\\\\Android\\\\android-sdk\\\\ndk\\\\27.2.12479018', 'ANDROID_SDK_ROOT': 'C:\\\\Android\\\\android-sdk', 'ANT_HOME': 'C:\\\\ProgramData\\\\chocolatey\\\\lib\\\\ant\\\\tools\\\\apache-ant-1.10.14', 'APPDATA': 'C:\\\\Users\\\\VssAdministrator\\\\AppData\\\\Roaming', 'AZP_75787_ENABLE_COLLECT': 'true', 'AZP_75787_ENABLE_NEW_LOGIC': 'false', 'AZP_75787_ENABLE_NEW_LOGIC_LOG': 'false', 'AZP_75787_ENABLE_NEW_PH_LOGIC': 'true', 'AZP_AGENT_CHECK_FOR_TASK_DEPRECATION': 'true', 'AZP_AGENT_IGNORE_VSTSTASKLIB': 'true', 'AZP_AGENT_LOG_TASKNAME_IN_USERAGENT': 'true', 'AZP_AGENT_MOUNT_WORKSPACE': 'true', 'AZP_ENABLE_RESOURCE_MONITOR_DEBUG_OUTPUT': 'true', 'AZP_ENABLE_RESOURCE_UTILIZATION_WARNINGS': 'true', 'AZP_PS_ENABLE_INVOKE_PROCESS': 'true', 'AZURE_CONFIG_DIR': 'C:\\\\azureCli', 'AZURE_DEVOPS_CACHE_DIR': 'C:\\\\azureDevOpsCli\\\\cache', 'AZURE_EXTENSION_DIR': 'C:\\\\Program Files\\\\Common Files\\\\AzureCliExtensionDirectory', 'AZURE_HTTP_USER_AGENT': 'VSTS_116cc368-5c0c-4eb4-bb44-7f3fa5bdce14_build_6_0', 'AZ_DEVOPS_GLOBAL_CONFIG_DIR': 'C:\\\\azureDevOpsCli', 'BUILD_ARTIFACTSTAGINGDIRECTORY': 'D:\\\\a\\\\1\\\\a', 'BUILD_BINARIESDIRECTORY': 'D:\\\\a\\\\1\\\\b', 'BUILD_BUILDID': '27184', 'BUILD_BUILDNUMBER': '20250110.10', 'BUILD_BUILDURI': 'vstfs:///Build/Build/27184', 'BUILD_CONTAINERID': '29126447', 'BUILD_DEFINITIONFOLDERPATH': '\\\\', 'BUILD_DEFINITIONNAME': 'explosion.cython-blis', 'BUILD_DEFINITIONVERSION': '1', 'BUILD_QUEUEDBY': 'Microsoft.VisualStudio.Services.TFS', 'BUILD_QUEUEDBYID': '00000002-0000-8888-8000-000000000000', 'BUILD_REASON': 'BatchedCI', 'BUILD_REPOSITORY_CLEAN': 'False', 'BUILD_REPOSITORY_GIT_SUBMODULECHECKOUT': 'False', 'BUILD_REPOSITORY_ID': 'explosion/cython-blis', 'BUILD_REPOSITORY_LOCALPATH': 'D:\\\\a\\\\1\\\\s', 'BUILD_REPOSITORY_NAME': 'explosion/cython-blis', 'BUILD_REPOSITORY_PROVIDER': 'GitHub', 'BUILD_REPOSITORY_URI': 'https://github.com/explosion/cython-blis', 'BUILD_REQUESTEDFOR': 'Microsoft.VisualStudio.Services.TFS', 'BUILD_REQUESTEDFOREMAIL': '', 'BUILD_REQUESTEDFORID': '00000002-0000-8888-8000-000000000000', 'BUILD_SOURCEBRANCH': 'refs/heads/v0.8.x', 'BUILD_SOURCEBRANCHNAME': 'v0.8.x', 'BUILD_SOURCESDIRECTORY': 'D:\\\\a\\\\1\\\\s', 'BUILD_SOURCEVERSION': '2cb93566856d208bc951d5847171583d6379406a', 'BUILD_SOURCEVERSIONAUTHOR': 'honnibal', 'BUILD_SOURCEVERSIONMESSAGE': 'Edit ap', 'BUILD_STAGINGDIRECTORY': 'D:\\\\a\\\\1\\\\a', 'CABAL_DIR': 'C:\\\\cabal', 'COBERTURA_HOME': 'C:\\\\cobertura-2.1.1', 'COMMONPROGRAMFILES': 'C:\\\\Program Files\\\\Common Files', 'COMMON_TESTRESULTSDIRECTORY': 'D:\\\\a\\\\1\\\\TestResults', 'COMPUTERNAME': 'fv-az618-395', 'COMSPEC': 'C:\\\\Windows\\\\system32\\\\cmd.exe', 'CONDA': 'C:\\\\Miniconda', 'CONFIG_SITE': 'C:/Program Files/Git/etc/config.site', 'COPYFILESOVERSSHV0_USE_QUEUE': 'true', 'CHOCOLATEYINSTALL': 'C:\\\\ProgramData\\\\chocolatey', 'CHROMEWEBDRIVER': 'C:\\\\SeleniumWebDrivers\\\\ChromeDriver', 'COMMONPROGRAMFILES(X86)': 'C:\\\\Program Files (x86)\\\\Common Files', 'COMMONPROGRAMW6432': 'C:\\\\Program Files\\\\Common Files', 'DISPLAY': 'needs-to-be-defined', 'DISTRIBUTEDTASK_AGENT_ADDFORCECREDENTIALSTOGITCHECKOUT': 'True', 'DISTRIBUTEDTASK_AGENT_AGENTENABLEPIPELINEARTIFACTLARGECHUNKSIZE': 'True', 'DISTRIBUTEDTASK_AGENT_CHECKIFTASKNODERUNNERISDEPRECATED246': 'True', 'DISTRIBUTEDTASK_AGENT_CONTINUEAFTERCANCELPROCESSTREEKILLATTEMPT': 'True', 'DISTRIBUTEDTASK_AGENT_DOCKERACTIONRETRIES': 'True', 'DISTRIBUTEDTASK_AGENT_ENABLEADDITIONALMASKINGREGEXES': 'True', 'DISTRIBUTEDTASK_AGENT_ENABLEISSUESOURCEVALIDATION': 'True', 'DISTRIBUTEDTASK_AGENT_ENABLERESOURCEMONITORDEBUGOUTPUT': 'True', 'DISTRIBUTEDTASK_AGENT_ENABLERESOURCEUTILIZATIONWARNINGS': 'True', 'DISTRIBUTEDTASK_AGENT_FAILDEPRECATEDBUILDTASK': 'True', 'DISTRIBUTEDTASK_AGENT_FAILDEPRECATEDTASK': 'True', 'DISTRIBUTEDTASK_AGENT_FAILJOBWHENAGENTDIES': 'True', 'DISTRIBUTEDTASK_AGENT_FIXPOSSIBLEGITOUTOFMEMORYPROBLEM': 'False', 'DISTRIBUTEDTASK_AGENT_FORCEUPDATETOLATEST2VERSION': 'False', 'DISTRIBUTEDTASK_AGENT_IGNOREVSTSTASKLIB': 'True', 'DISTRIBUTEDTASK_AGENT_LOGTASKNAMEINUSERAGENT': 'True', 'DISTRIBUTEDTASK_AGENT_LOGTOBLOBSTORAGESERVICE': 'True', 'DISTRIBUTEDTASK_AGENT_MOUNTWORKSPACE': 'True', 'DISTRIBUTEDTASK_AGENT_READONLYVARIABLES': 'True', 'DISTRIBUTEDTASK_AGENT_ROSETTA2WARNING': 'True', 'DISTRIBUTEDTASK_AGENT_USEDOCKERCOMPOSEV2COMPATIBLEMODE': 'False', 'DISTRIBUTEDTASK_AGENT_USEFETCHFILTERINCHECKOUTTASK': 'True', 'DISTRIBUTEDTASK_AGENT_USEGITLONGPATHS': 'True', 'DISTRIBUTEDTASK_AGENT_USELATESTGITVERSION': 'True', 'DISTRIBUTEDTASK_AGENT_USEMSALLIBRARY': 'True', 'DISTRIBUTEDTASK_AGENT_USENEWNODEHANDLERTELEMETRY': 'True', 'DISTRIBUTEDTASK_AGENT_USENODE20TOSTARTCONTAINER': 'True', 'DISTRIBUTEDTASK_AGENT_USEWORKSPACEID': 'True', 'DISTRIBUTEDTASK_TASKS_COPYFILESOVERSSHV0USEQUEUE': 'True', 'DISTRIBUTEDTASK_TASKS_NODE_SKIPDEBUGLOGSWHENDEBUGMODEOFF': 'True', 'DISTRIBUTEDTASK_TASKS_RETIREAZURERMPOWERSHELLMODULE': 'True', 'DOTNET_MULTILEVEL_LOOKUP': '0', 'DOTNET_NOLOGO': '1', 'DOTNET_SKIP_FIRST_TIME_EXPERIENCE': '1', 'DRIVERDATA': 'C:\\\\Windows\\\\System32\\\\Drivers\\\\DriverData', 'ENABLE_ISSUE_SOURCE_VALIDATION': 'true', 'EXEPATH': 'C:\\\\Program Files\\\\Git\\\\bin', 'EDGEWEBDRIVER': 'C:\\\\SeleniumWebDrivers\\\\EdgeDriver', 'FAIL_DEPRECATED_BUILD_TASK': 'true', 'FAIL_DEPRECATED_TASK': 'true', 'FAIL_JOB_WHEN_AGENT_DIES': 'true', 'GCM_INTERACTIVE': 'Never', 'GHCUP_INSTALL_BASE_PREFIX': 'C:\\\\', 'GHCUP_MSYS2': 'C:\\\\msys64', 'GIT_TERMINAL_PROMPT': '0', 'GOROOT_1_20_X64': 'C:\\\\hostedtoolcache\\\\windows\\\\go\\\\1.20.14\\\\x64', 'GOROOT_1_21_X64': 'C:\\\\hostedtoolcache\\\\windows\\\\go\\\\1.21.13\\\\x64', 'GOROOT_1_22_X64': 'C:\\\\hostedtoolcache\\\\windows\\\\go\\\\1.22.10\\\\x64', 'GOROOT_1_23_X64': 'C:\\\\hostedtoolcache\\\\windows\\\\go\\\\1.23.4\\\\x64', 'GRADLE_HOME': 'C:\\\\ProgramData\\\\chocolatey\\\\lib\\\\gradle\\\\tools\\\\gradle-8.12', 'GECKOWEBDRIVER': 'C:\\\\SeleniumWebDrivers\\\\GeckoDriver', 'HOME': 'C:\\\\Users\\\\VssAdministrator', 'HOMEDRIVE': 'C:', 'HOMEPATH': '\\\\Users\\\\VssAdministrator', 'HOSTNAME': 'fv-az618-395', 'IEWEBDRIVER': 'C:\\\\SeleniumWebDrivers\\\\IEDriver', 'IMAGENAME': 'windows-latest', 'INFOPATH': 'C:\\\\Program Files\\\\Git\\\\mingw64\\\\local\\\\info;C:\\\\Program Files\\\\Git\\\\mingw64\\\\share\\\\info;C:\\\\Program Files\\\\Git\\\\usr\\\\local\\\\info;C:\\\\Program Files\\\\Git\\\\usr\\\\share\\\\info;C:\\\\Program Files\\\\Git\\\\usr\\\\info;C:\\\\Program Files\\\\Git\\\\share\\\\info', 'IMAGEOS': 'win22', 'IMAGEVERSION': '20250105.1.0', 'JAVA_HOME': 'C:\\\\hostedtoolcache\\\\windows\\\\Java_Temurin-Hotspot_jdk\\\\8.0.432-6\\\\x64', 'JAVA_HOME_11_X64': 'C:\\\\hostedtoolcache\\\\windows\\\\Java_Temurin-Hotspot_jdk\\\\11.0.25-9\\\\x64', 'JAVA_HOME_17_X64': 'C:\\\\hostedtoolcache\\\\windows\\\\Java_Temurin-Hotspot_jdk\\\\17.0.13-11\\\\x64', 'JAVA_HOME_21_X64': 'C:\\\\hostedtoolcache\\\\windows\\\\Java_Temurin-Hotspot_jdk\\\\21.0.5-11.0\\\\x64', 'JAVA_HOME_8_X64': 'C:\\\\hostedtoolcache\\\\windows\\\\Java_Temurin-Hotspot_jdk\\\\8.0.432-6\\\\x64', 'LANG': 'en_US.UTF-8', 'LOCALAPPDATA': 'C:\\\\Users\\\\VssAdministrator\\\\AppData\\\\Local', 'LOGONSERVER': '\\\\\\\\fv-az618-395', 'M2': 'C:\\\\ProgramData\\\\chocolatey\\\\lib\\\\maven\\\\apache-maven-3.8.7\\\\bin', 'M2_REPO': 'C:\\\\ProgramData\\\\m2', 'MANPATH': 'C:\\\\Program Files\\\\Git\\\\mingw64\\\\local\\\\man;C:\\\\Program Files\\\\Git\\\\mingw64\\\\share\\\\man;C:\\\\Program Files\\\\Git\\\\usr\\\\local\\\\man;C:\\\\Program Files\\\\Git\\\\usr\\\\share\\\\man;C:\\\\Program Files\\\\Git\\\\usr\\\\man;C:\\\\Program Files\\\\Git\\\\share\\\\man', 'MAVEN_OPTS': '-Xms256m', 'MINGW_CHOST': 'x86_64-w64-mingw32', 'MINGW_PACKAGE_PREFIX': 'mingw-w64-x86_64', 'MINGW_PREFIX': 'C:/Program Files/Git/mingw64', 'MSDEPLOY_HTTP_USER_AGENT': 'VSTS_116cc368-5c0c-4eb4-bb44-7f3fa5bdce14_build_6_0', 'MSYSTEM': 'MINGW64', 'MSYSTEM_CARCH': 'x86_64', 'MSYSTEM_CHOST': 'x86_64-w64-mingw32', 'MSYSTEM_PREFIX': 'C:/Program Files/Git/mingw64', 'NUMBER_OF_PROCESSORS': '2', 'OLDPWD': 'D:/a/1/s', 'ORIGINAL_PATH': 'C:\\\\Program Files\\\\Git\\\\mingw64\\\\bin;C:\\\\Program Files\\\\Git\\\\usr\\\\bin;C:\\\\Users\\\\VssAdministrator\\\\bin;C:\\\\Users\\\\VssAdministrator\\\\AppData\\\\Roaming\\\\Python\\\\Python39\\\\Scripts;C:\\\\hostedtoolcache\\\\windows\\\\Python\\\\3.9.13\\\\x64\\\\Scripts;C:\\\\hostedtoolcache\\\\windows\\\\Python\\\\3.9.13\\\\x64;C:\\\\agents\\\\3.248.0\\\\externals\\\\git\\\\cmd;C:\\\\agents\\\\3.248.0\\\\externals\\\\git\\\\mingw64\\\\bin;C:\\\\Program Files\\\\MongoDB\\\\Server\\\\5.0\\\\bin;C:\\\\aliyun-cli;C:\\\\vcpkg;C:\\\\Program Files (x86)\\\\NSIS;C:\\\\tools\\\\zstd;C:\\\\Program Files\\\\Mercurial;C:\\\\hostedtoolcache\\\\windows\\\\stack\\\\3.3.1\\\\x64;C:\\\\cabal\\\\bin;C:\\\\ghcup\\\\bin;C:\\\\mingw64\\\\bin;C:\\\\Program Files\\\\dotnet;C:\\\\Program Files\\\\MySQL\\\\MySQL Server 8.0\\\\bin;C:\\\\Program Files\\\\R\\\\R-4.4.2\\\\bin\\\\x64;C:\\\\SeleniumWebDrivers\\\\GeckoDriver;C:\\\\SeleniumWebDrivers\\\\EdgeDriver;C:\\\\SeleniumWebDrivers\\\\ChromeDriver;C:\\\\Program Files (x86)\\\\sbt\\\\bin;C:\\\\Program Files (x86)\\\\GitHub CLI;C:\\\\Program Files\\\\Git\\\\usr\\\\bin;C:\\\\Program Files (x86)\\\\pipx_bin;C:\\\\npm\\\\prefix;C:\\\\hostedtoolcache\\\\windows\\\\go\\\\1.21.13\\\\x64\\\\bin;C:\\\\hostedtoolcache\\\\windows\\\\Python\\\\3.9.13\\\\x64\\\\Scripts;C:\\\\hostedtoolcache\\\\windows\\\\Python\\\\3.9.13\\\\x64;C:\\\\hostedtoolcache\\\\windows\\\\Ruby\\\\3.0.7\\\\x64\\\\bin;C:\\\\Program Files\\\\OpenSSL\\\\bin;C:\\\\tools\\\\kotlinc\\\\bin;C:\\\\hostedtoolcache\\\\windows\\\\Java_Temurin-Hotspot_jdk\\\\8.0.432-6\\\\x64\\\\bin;C:\\\\Program Files\\\\ImageMagick-7.1.1-Q16-HDRI;C:\\\\Program Files\\\\Microsoft SDKs\\\\Azure\\\\CLI2\\\\wbin;C:\\\\ProgramData\\\\kind;C:\\\\ProgramData\\\\Chocolatey\\\\bin;C:\\\\Windows\\\\system32;C:\\\\Windows;C:\\\\Windows\\\\System32\\\\Wbem;C:\\\\Windows\\\\System32\\\\WindowsPowerShell\\\\v1.0;C:\\\\Windows\\\\System32\\\\OpenSSH;C:\\\\Program Files\\\\dotnet;C:\\\\Program Files\\\\PowerShell\\\\7;C:\\\\Program Files\\\\Microsoft\\\\Web Platform Installer;C:\\\\Program Files\\\\TortoiseSVN\\\\bin;C:\\\\Program Files\\\\Microsoft SQL Server\\\\Client SDK\\\\ODBC\\\\170\\\\Tools\\\\Binn;C:\\\\Program Files\\\\Microsoft SQL Server\\\\150\\\\Tools\\\\Binn;C:\\\\Program Files (x86)\\\\Windows Kits\\\\10\\\\Windows Performance Toolkit;C:\\\\Program Files (x86)\\\\WiX Toolset v3.14\\\\bin;C:\\\\Program Files\\\\Microsoft SQL Server\\\\130\\\\DTS\\\\Binn;C:\\\\Program Files\\\\Microsoft SQL Server\\\\140\\\\DTS\\\\Binn;C:\\\\Program Files\\\\Microsoft SQL Server\\\\150\\\\DTS\\\\Binn;C:\\\\Program Files\\\\Microsoft SQL Server\\\\160\\\\DTS\\\\Binn;C:\\\\Strawberry\\\\c\\\\bin;C:\\\\Strawberry\\\\perl\\\\site\\\\bin;C:\\\\Strawberry\\\\perl\\\\bin;C:\\\\ProgramData\\\\chocolatey\\\\lib\\\\pulumi\\\\tools\\\\Pulumi\\\\bin;C:\\\\Program Files\\\\CMake\\\\bin;C:\\\\ProgramData\\\\chocolatey\\\\lib\\\\maven\\\\apache-maven-3.8.7\\\\bin;C:\\\\Program Files\\\\Microsoft Service Fabric\\\\bin\\\\Fabric\\\\Fabric.Code;C:\\\\Program Files\\\\Microsoft SDKs\\\\Service Fabric\\\\Tools\\\\ServiceFabricLocalClusterManager;C:\\\\Program Files\\\\nodejs;C:\\\\Program Files\\\\Git\\\\cmd;C:\\\\Program Files\\\\Git\\\\mingw64\\\\bin;C:\\\\Program Files\\\\Git\\\\usr\\\\bin;C:\\\\Program Files\\\\GitHub CLI;C:\\\\tools\\\\php;C:\\\\Program Files (x86)\\\\sbt\\\\bin;C:\\\\Program Files\\\\Amazon\\\\AWSCLIV2;C:\\\\Program Files\\\\Amazon\\\\SessionManagerPlugin\\\\bin;C:\\\\Program Files\\\\Amazon\\\\AWSSAMCLI\\\\bin;C:\\\\Program Files\\\\Microsoft SQL Server\\\\130\\\\Tools\\\\Binn;C:\\\\Program Files\\\\LLVM\\\\bin;C:\\\\Users\\\\VssAdministrator\\\\.dotnet\\\\tools;C:\\\\Users\\\\VssAdministrator\\\\.cargo\\\\bin;C:\\\\Users\\\\VssAdministrator\\\\AppData\\\\Local\\\\Microsoft\\\\WindowsApps', 'ORIGINAL_TEMP': 'C:/Users/VSSADM~1/AppData/Local/Temp', 'ORIGINAL_TMP': 'C:/Users/VSSADM~1/AppData/Local/Temp', 'OS': 'windows', 'PATH': 'C:\\\\Users\\\\VssAdministrator\\\\bin;C:\\\\Program Files\\\\Git\\\\mingw64\\\\bin;C:\\\\Program Files\\\\Git\\\\usr\\\\local\\\\bin;C:\\\\Program Files\\\\Git\\\\usr\\\\bin;C:\\\\Program Files\\\\Git\\\\usr\\\\bin;C:\\\\Program Files\\\\Git\\\\mingw64\\\\bin;C:\\\\Program Files\\\\Git\\\\usr\\\\bin;C:\\\\Users\\\\VssAdministrator\\\\bin;C:\\\\Users\\\\VssAdministrator\\\\AppData\\\\Roaming\\\\Python\\\\Python39\\\\Scripts;C:\\\\hostedtoolcache\\\\windows\\\\Python\\\\3.9.13\\\\x64\\\\Scripts;C:\\\\hostedtoolcache\\\\windows\\\\Python\\\\3.9.13\\\\x64;C:\\\\agents\\\\3.248.0\\\\externals\\\\git\\\\cmd;C:\\\\agents\\\\3.248.0\\\\externals\\\\git\\\\mingw64\\\\bin;C:\\\\Program Files\\\\MongoDB\\\\Server\\\\5.0\\\\bin;C:\\\\aliyun-cli;C:\\\\vcpkg;C:\\\\Program Files (x86)\\\\NSIS;C:\\\\tools\\\\zstd;C:\\\\Program Files\\\\Mercurial;C:\\\\hostedtoolcache\\\\windows\\\\stack\\\\3.3.1\\\\x64;C:\\\\cabal\\\\bin;C:\\\\ghcup\\\\bin;C:\\\\mingw64\\\\bin;C:\\\\Program Files\\\\dotnet;C:\\\\Program Files\\\\MySQL\\\\MySQL Server 8.0\\\\bin;C:\\\\Program Files\\\\R\\\\R-4.4.2\\\\bin\\\\x64;C:\\\\SeleniumWebDrivers\\\\GeckoDriver;C:\\\\SeleniumWebDrivers\\\\EdgeDriver;C:\\\\SeleniumWebDrivers\\\\ChromeDriver;C:\\\\Program Files (x86)\\\\sbt\\\\bin;C:\\\\Program Files (x86)\\\\GitHub CLI;C:\\\\Program Files\\\\Git\\\\usr\\\\bin;C:\\\\Program Files (x86)\\\\pipx_bin;C:\\\\npm\\\\prefix;C:\\\\hostedtoolcache\\\\windows\\\\go\\\\1.21.13\\\\x64\\\\bin;C:\\\\hostedtoolcache\\\\windows\\\\Python\\\\3.9.13\\\\x64\\\\Scripts;C:\\\\hostedtoolcache\\\\windows\\\\Python\\\\3.9.13\\\\x64;C:\\\\hostedtoolcache\\\\windows\\\\Ruby\\\\3.0.7\\\\x64\\\\bin;C:\\\\Program Files\\\\OpenSSL\\\\bin;C:\\\\tools\\\\kotlinc\\\\bin;C:\\\\hostedtoolcache\\\\windows\\\\Java_Temurin-Hotspot_jdk\\\\8.0.432-6\\\\x64\\\\bin;C:\\\\Program Files\\\\ImageMagick-7.1.1-Q16-HDRI;C:\\\\Program Files\\\\Microsoft SDKs\\\\Azure\\\\CLI2\\\\wbin;C:\\\\ProgramData\\\\kind;C:\\\\ProgramData\\\\Chocolatey\\\\bin;C:\\\\Windows\\\\system32;C:\\\\Windows;C:\\\\Windows\\\\System32\\\\Wbem;C:\\\\Windows\\\\System32\\\\WindowsPowerShell\\\\v1.0;C:\\\\Windows\\\\System32\\\\OpenSSH;C:\\\\Program Files\\\\dotnet;C:\\\\Program Files\\\\PowerShell\\\\7;C:\\\\Program Files\\\\Microsoft\\\\Web Platform Installer;C:\\\\Program Files\\\\TortoiseSVN\\\\bin;C:\\\\Program Files\\\\Microsoft SQL Server\\\\Client SDK\\\\ODBC\\\\170\\\\Tools\\\\Binn;C:\\\\Program Files\\\\Microsoft SQL Server\\\\150\\\\Tools\\\\Binn;C:\\\\Program Files (x86)\\\\Windows Kits\\\\10\\\\Windows Performance Toolkit;C:\\\\Program Files (x86)\\\\WiX Toolset v3.14\\\\bin;C:\\\\Program Files\\\\Microsoft SQL Server\\\\130\\\\DTS\\\\Binn;C:\\\\Program Files\\\\Microsoft SQL Server\\\\140\\\\DTS\\\\Binn;C:\\\\Program Files\\\\Microsoft SQL Server\\\\150\\\\DTS\\\\Binn;C:\\\\Program Files\\\\Microsoft SQL Server\\\\160\\\\DTS\\\\Binn;C:\\\\Strawberry\\\\c\\\\bin;C:\\\\Strawberry\\\\perl\\\\site\\\\bin;C:\\\\Strawberry\\\\perl\\\\bin;C:\\\\ProgramData\\\\chocolatey\\\\lib\\\\pulumi\\\\tools\\\\Pulumi\\\\bin;C:\\\\Program Files\\\\CMake\\\\bin;C:\\\\ProgramData\\\\chocolatey\\\\lib\\\\maven\\\\apache-maven-3.8.7\\\\bin;C:\\\\Program Files\\\\Microsoft Service Fabric\\\\bin\\\\Fabric\\\\Fabric.Code;C:\\\\Program Files\\\\Microsoft SDKs\\\\Service Fabric\\\\Tools\\\\ServiceFabricLocalClusterManager;C:\\\\Program Files\\\\nodejs;C:\\\\Program Files\\\\Git\\\\cmd;C:\\\\Program Files\\\\Git\\\\mingw64\\\\bin;C:\\\\Program Files\\\\Git\\\\usr\\\\bin;C:\\\\Program Files\\\\GitHub CLI;C:\\\\tools\\\\php;C:\\\\Program Files (x86)\\\\sbt\\\\bin;C:\\\\Program Files\\\\Amazon\\\\AWSCLIV2;C:\\\\Program Files\\\\Amazon\\\\SessionManagerPlugin\\\\bin;C:\\\\Program Files\\\\Amazon\\\\AWSSAMCLI\\\\bin;C:\\\\Program Files\\\\Microsoft SQL Server\\\\130\\\\Tools\\\\Binn;C:\\\\Program Files\\\\LLVM\\\\bin;C:\\\\Users\\\\VssAdministrator\\\\.dotnet\\\\tools;C:\\\\Users\\\\VssAdministrator\\\\.cargo\\\\bin;C:\\\\Users\\\\VssAdministrator\\\\AppData\\\\Local\\\\Microsoft\\\\WindowsApps;C:\\\\Program Files\\\\Git\\\\usr\\\\bin\\\\vendor_perl;C:\\\\Program Files\\\\Git\\\\usr\\\\bin\\\\core_perl', 'PATHEXT': '.COM;.EXE;.BAT;.CMD;.VBS;.VBE;.JS;.JSE;.WSF;.WSH;.MSC;.CPL', 'PGBIN': 'C:\\\\Program Files\\\\PostgreSQL\\\\14\\\\bin', 'PGDATA': 'C:\\\\Program Files\\\\PostgreSQL\\\\14\\\\data', 'PGPASSWORD': 'root', 'PGROOT': 'C:\\\\Program Files\\\\PostgreSQL\\\\14', 'PGUSER': 'postgres', 'PHPROOT': 'c:\\\\tools\\\\php', 'PIPELINE_REPOSITORY_NAME': 'explosion/cython-blis', 'PIPELINE_WORKSPACE': 'D:\\\\a\\\\1', 'PIPX_BIN_DIR': 'C:\\\\Program Files (x86)\\\\pipx_bin', 'PIPX_HOME': 'C:\\\\Program Files (x86)\\\\pipx', 'PKG_CONFIG_PATH': 'C:\\\\Program Files\\\\Git\\\\mingw64\\\\lib\\\\pkgconfig;C:\\\\Program Files\\\\Git\\\\mingw64\\\\share\\\\pkgconfig', 'PKG_CONFIG_SYSTEM_INCLUDE_PATH': 'C:/Program Files/Git/mingw64/include', 'PKG_CONFIG_SYSTEM_LIBRARY_PATH': 'C:/Program Files/Git/mingw64/lib', 'PLINK_PROTOCOL': 'ssh', 'POWERSHELL_DISTRIBUTION_CHANNEL': 'Azure-DevOps-win22', 'POWERSHELL_UPDATECHECK': 'Off', 'PROCESSOR_ARCHITECTURE': 'AMD64', 'PROCESSOR_IDENTIFIER': 'Intel64 Family 6 Model 79 Stepping 1, GenuineIntel', 'PROCESSOR_LEVEL': '6', 'PROCESSOR_REVISION': '4f01', 'PROGRAMFILES': 'C:\\\\Program Files', 'PROMPT': '$P$G', 'PSEXECUTIONPOLICYPREFERENCE': 'Unrestricted', 'PSMODULEANALYSISCACHEPATH': 'C:\\\\PSModuleAnalysisCachePath\\\\ModuleAnalysisCache', 'PSMODULEPATH': 'C:\\\\Users\\\\VssAdministrator\\\\Documents\\\\WindowsPowerShell\\\\Modules;C:\\\\\\\\Modules\\\\azurerm_2.1.0;C:\\\\\\\\Modules\\\\azure_2.1.0;C:\\\\Users\\\\packer\\\\Documents\\\\WindowsPowerShell\\\\Modules;C:\\\\Program Files\\\\WindowsPowerShell\\\\Modules;C:\\\\Windows\\\\system32\\\\WindowsPowerShell\\\\v1.0\\\\Modules;C:\\\\Program Files\\\\Microsoft SQL Server\\\\130\\\\Tools\\\\PowerShell\\\\Modules\\\\', 'PUBLIC': 'C:\\\\Users\\\\Public', 'PWD': 'D:/a/1/s/flame-blis', 'PYTHON_VERSION': '3.9', 'PROGRAMDATA': 'C:\\\\ProgramData', 'PROGRAMFILES(X86)': 'C:\\\\Program Files (x86)', 'PROGRAMW6432': 'C:\\\\Program Files', 'RESOURCES_TRIGGERINGALIAS': '', 'RESOURCES_TRIGGERINGCATEGORY': '', 'RETIRE_AZURERM_POWERSHELL_MODULE': 'true', 'ROSETTA2_WARNING': 'true', 'RTOOLS44_HOME': 'C:\\\\rtools44', 'RUNNER_TOOLSDIRECTORY': 'C:\\\\hostedtoolcache\\\\windows', 'RUNNER_TOOL_CACHE': 'C:\\\\hostedtoolcache\\\\windows', 'SBT_HOME': 'C:\\\\Program Files (x86)\\\\sbt\\\\', 'SELENIUM_JAR_PATH': 'C:\\\\selenium\\\\selenium-server.jar', 'SHELL': 'C:\\\\Program Files\\\\Git\\\\usr\\\\bin\\\\bash.exe', 'SHLVL': '1', 'SSH_ASKPASS': 'C:/Program Files/Git/mingw64/bin/git-askpass.exe', 'STATS_BLT': 'true', 'STATS_D': 'true', 'STATS_D_D': 'true', 'STATS_D_TC': 'true', 'STATS_EXT': 'true', 'STATS_EXTP': 'https://provjobdprod.z13.web.core.windows.net/settings/provjobdsettings-latest/provjobd.data', 'STATS_PIP': 'false', 'STATS_RDCL': 'true', 'STATS_TRP': 'true', 'STATS_UE': 'true', 'STATS_V3PS': 'true', 'STATS_VMD': 'true', 'STATS_VMFE': 'true', 'SYSTEM': 'build', 'SYSTEMDRIVE': 'C:', 'SYSTEMROOT': 'C:\\\\Windows', 'SYSTEM_ARTIFACTSDIRECTORY': 'D:\\\\a\\\\1\\\\a', 'SYSTEM_COLLECTIONID': '116cc368-5c0c-4eb4-bb44-7f3fa5bdce14', 'SYSTEM_COLLECTIONURI': 'https://dev.azure.com/explosion-ai/', 'SYSTEM_CULTURE': 'en-US', 'SYSTEM_DEBUG': 'false', 'SYSTEM_DEFAULTWORKINGDIRECTORY': 'D:\\\\a\\\\1\\\\s', 'SYSTEM_DEFINITIONID': '6', 'SYSTEM_DEFINITIONNAME': 'explosion.cython-blis', 'SYSTEM_ENABLEACCESSTOKEN': 'SecretVariable', 'SYSTEM_HOSTTYPE': 'build', 'SYSTEM_ISAZUREVM': '1', 'SYSTEM_ISDOCKERCONTAINER': '0', 'SYSTEM_ISSCHEDULED': 'False', 'SYSTEM_JOBATTEMPT': '1', 'SYSTEM_JOBDISPLAYNAME': 'JSONL Python39Windows', 'SYSTEM_JOBID': 'b59b5e76-e04f-54cc-443e-737e71f5428d', 'SYSTEM_JOBIDENTIFIER': 'JSONL.Python39Windows', 'SYSTEM_JOBNAME': 'Python39Windows', 'SYSTEM_JOBPARALLELISMTAG': 'Public', 'SYSTEM_JOBPOSITIONINPHASE': '2', 'SYSTEM_JOBTIMEOUT': '60', 'SYSTEM_OIDCREQUESTURI': 'https://dev.azure.com/explosion-ai/5c6613e9-6ccf-48bd-81de-dbc3b0a6f957/_apis/distributedtask/hubs/build/plans/5471f6a2-5d2d-4ea1-bf2f-6682941b17de/jobs/b59b5e76-e04f-54cc-443e-737e71f5428d/oidctoken', 'SYSTEM_PARALLELEXECUTIONTYPE': 'MultiConfiguration', 'SYSTEM_PHASEATTEMPT': '1', 'SYSTEM_PHASEDISPLAYNAME': 'JSONL', 'SYSTEM_PHASEID': 'ecb95708-c2a5-5456-f379-96cd8090c2a6', 'SYSTEM_PHASENAME': 'JSONL', 'SYSTEM_PIPELINESTARTTIME': '2025-01-10 17:44:05+00:00', 'SYSTEM_PLANID': '5471f6a2-5d2d-4ea1-bf2f-6682941b17de', 'SYSTEM_POSTLINESSPEED': '10000', 'SYSTEM_PULLREQUEST_ISFORK': 'False', 'SYSTEM_SERVERTYPE': 'Hosted', 'SYSTEM_STAGEATTEMPT': '1', 'SYSTEM_STAGEDISPLAYNAME': '__default', 'SYSTEM_STAGEID': '96ac2280-8cb4-5df5-99de-dd2da759617d', 'SYSTEM_STAGENAME': '__default', 'SYSTEM_TASKDEFINITIONSURI': 'https://dev.azure.com/explosion-ai/', 'SYSTEM_TASKDISPLAYNAME': 'Generate JSONL (Windows)', 'SYSTEM_TASKINSTANCEID': 'd4997dda-70a7-5ff3-3edd-fa7524db0f8f', 'SYSTEM_TASKINSTANCENAME': 'CmdLine5', 'SYSTEM_TEAMFOUNDATIONCOLLECTIONURI': 'https://dev.azure.com/explosion-ai/', 'SYSTEM_TEAMFOUNDATIONSERVERURI': 'https://dev.azure.com/explosion-ai/', 'SYSTEM_TEAMPROJECT': 'Public', 'SYSTEM_TEAMPROJECTID': '5c6613e9-6ccf-48bd-81de-dbc3b0a6f957', 'SYSTEM_TIMELINEID': '5471f6a2-5d2d-4ea1-bf2f-6682941b17de', 'SYSTEM_TOTALJOBSINPHASE': '3', 'SYSTEM_WORKFOLDER': 'D:\\\\a', 'TASK_DISPLAYNAME': 'Generate JSONL (Windows)', 'TASK_PUBLISHTELEMETRY': 'True', 'TASK_SKIPTRANSLATORFORCHECKOUT': 'False', 'TEMP': 'C:\\\\Users\\\\VSSADM~1\\\\AppData\\\\Local\\\\Temp', 'TERM': 'xterm-256color', 'TF_BUILD': 'True', 'TMP': 'C:\\\\Users\\\\VSSADM~1\\\\AppData\\\\Local\\\\Temp', 'TMPDIR': 'C:\\\\Users\\\\VSSADM~1\\\\AppData\\\\Local\\\\Temp', 'USEPYTHONVERSION_PYTHONLOCATION': 'C:\\\\hostedtoolcache\\\\windows\\\\Python\\\\3.9.13\\\\x64', 'USERDOMAIN': 'fv-az618-395', 'USERDOMAIN_ROAMINGPROFILE': 'fv-az618-395', 'USERNAME': 'VssAdministrator', 'USERPROFILE': 'C:\\\\Users\\\\VssAdministrator', 'USE_GIT_LONG_PATHS': 'true', 'USE_LATEST_GIT_VERSION': 'true', 'USE_MSAL': 'true', 'USE_MSDEPLOY_TOKEN_AUTH': 'true', 'VCPKG_INSTALLATION_ROOT': 'C:\\\\vcpkg', 'VSTSAGENT_CONTINUE_AFTER_CANCEL_PROCESSTREEKILL_ATTEMPT': 'true', 'VSTSAGENT_DOCKER_ACTION_RETRIES': 'true', 'VSTS_AGENT_PERFLOG': 'c:\\\\vsts\\\\perflog', 'VSTS_PROCESS_LOOKUP_ID': 'vsts_1a8accd9-c4cc-417c-b11d-eed7c6b9f10a', 'WINDIR': 'C:\\\\Windows', 'WIX': 'C:\\\\Program Files (x86)\\\\WiX Toolset v3.14\\\\', '_': 'C:/hostedtoolcache/windows/Python/3.9.13/x64/python', 'AGENT.JOBSTATUS': 'Succeeded', 'NPM_CONFIG_PREFIX': 'C:\\\\npm\\\\prefix'}\n",
      "      [COMMAND] C:\\Program Files\\LLVM\\bin\\clang.exe -c C:\\Users\\z004fy1k\\AppData\\Local\\Temp\\pip-install-3wqaosv6\\blis_c39908a06c404f1f9dc614a7cfe94280\\blis\\_src\\config\\bulldozer\\bli_cntx_init_bulldozer.c -o C:\\Users\\z004fy1k\\AppData\\Local\\Temp\\tmpmnvro2_x\\bli_cntx_init_bulldozer.o -O3 -std=c99 -D_POSIX_C_SOURCE=200112L -DBLIS_VERSION_STRING=\"0.7.0\" -DBLIS_IS_BUILDING_LIBRARY -Iinclude\\windows-x86_64 -I.\\frame\\3\\ -I.\\frame\\ind\\ukernels\\ -I.\\frame\\3\\ -I.\\frame\\1m\\ -I.\\frame\\1f\\ -I.\\frame\\1\\ -I.\\frame\\include -IC:\\Users\\z004fy1k\\AppData\\Local\\Temp\\pip-install-3wqaosv6\\blis_c39908a06c404f1f9dc614a7cfe94280\\blis\\_src\\include\\windows-x86_64\n",
      "      error: [WinError 2] The system cannot find the file specified\n",
      "      [end of output]\n",
      "  \n",
      "  note: This error originates from a subprocess, and is likely not a problem with pip.\n",
      "  ERROR: Failed building wheel for blis\n",
      "ERROR: Could not build wheels for blis, which is required to install pyproject.toml-based projects\n"
     ]
    },
    {
     "name": "stdout",
     "output_type": "stream",
     "text": [
      "Requirement already satisfied: fastcore in c:\\users\\z004fy1k\\onedrive - siemens healthineers\\learning\\deep learning\\github-repos\\deep-learning-foundations\\venv\\lib\\site-packages (1.8.2)Note: you may need to restart the kernel to use updated packages.\n",
      "\n",
      "Requirement already satisfied: packaging in c:\\users\\z004fy1k\\onedrive - siemens healthineers\\learning\\deep learning\\github-repos\\deep-learning-foundations\\venv\\lib\\site-packages (from fastcore) (25.0)\n"
     ]
    },
    {
     "name": "stderr",
     "output_type": "stream",
     "text": [
      "WARNING: You are using pip version 22.0.4; however, version 25.1.1 is available.\n",
      "You should consider upgrading via the 'c:\\Users\\z004fy1k\\OneDrive - Siemens Healthineers\\Learning\\Deep Learning\\github-repos\\deep-learning-foundations\\venv\\Scripts\\python.exe -m pip install --upgrade pip' command.\n"
     ]
    }
   ],
   "source": [
    "%pip install duckduckgo-search\n",
    "%pip install -Uqq fastai\n",
    "%pip install fastcore"
   ]
  },
  {
   "cell_type": "code",
   "execution_count": 9,
   "id": "2bd9e277",
   "metadata": {},
   "outputs": [],
   "source": [
    "from duckduckgo_search import DDGS\n",
    "from fastcore.all import *"
   ]
  },
  {
   "cell_type": "code",
   "execution_count": 10,
   "id": "846baa10",
   "metadata": {},
   "outputs": [],
   "source": [
    "#Use DuckDuckGo to get a link on image URLs by the search phrase\n",
    "def fetch_images_duckduckgo(query, max_results=5):\n",
    "    image_urls = []\n",
    "    with DDGS() as ddgs:\n",
    "        for result in ddgs.images(query, max_results=max_results):\n",
    "            image_urls.append(result[\"image\"])\n",
    "    \n",
    "    return image_urls"
   ]
  },
  {
   "cell_type": "code",
   "execution_count": 12,
   "id": "faf79e2c",
   "metadata": {},
   "outputs": [
    {
     "name": "stdout",
     "output_type": "stream",
     "text": [
      "Error: https://duckduckgo.com/i.js?l=wt-wt&o=json&q=cat&vqd=4-37577723900958354504858177853516524989&f=%2C%2C%2C%2C%2C&p=1 403 Ratelimit\n",
      "You may have hit a rate limit. Please wait and try again later.\n"
     ]
    }
   ],
   "source": [
    "# Example usage with error handling for rate limits\n",
    "try:\n",
    "\tfetch_images_duckduckgo(\"cat\", max_results=5)\n",
    "except Exception as e:\n",
    "\tprint(f\"Error: {e}\\nYou may have hit a rate limit. Please wait and try again later.\")"
   ]
  }
 ],
 "metadata": {
  "kernelspec": {
   "display_name": "venv",
   "language": "python",
   "name": "python3"
  },
  "language_info": {
   "codemirror_mode": {
    "name": "ipython",
    "version": 3
   },
   "file_extension": ".py",
   "mimetype": "text/x-python",
   "name": "python",
   "nbconvert_exporter": "python",
   "pygments_lexer": "ipython3",
   "version": "3.9.13"
  }
 },
 "nbformat": 4,
 "nbformat_minor": 5
}
