{
 "cells": [
  {
   "cell_type": "code",
   "execution_count": 1,
   "id": "a7187402",
   "metadata": {},
   "outputs": [],
   "source": [
    "import numpy as np"
   ]
  },
  {
   "cell_type": "code",
   "execution_count": 6,
   "id": "a86714ef",
   "metadata": {},
   "outputs": [],
   "source": [
    "# Column 0: random integers between 1 and 1000\n",
    "col0 = np.random.randint(1, 1001, size=(10, 1))\n",
    "\n",
    "# Columns 1 and 2: random 0s or 1s\n",
    "col1 = np.random.randint(0, 2, size=(10, 1))\n",
    "col2 = np.random.randint(0, 2, size=(10, 1))\n",
    "\n",
    "# Combine into a single dataset\n",
    "dataset = np.hstack((col0, col1, col2))"
   ]
  },
  {
   "cell_type": "code",
   "execution_count": 7,
   "id": "a499cb76",
   "metadata": {},
   "outputs": [
    {
     "data": {
      "text/plain": [
       "array([[308,   0,   0],\n",
       "       [911,   1,   1],\n",
       "       [667,   0,   1],\n",
       "       [578,   0,   1],\n",
       "       [129,   0,   1],\n",
       "       [187,   1,   0],\n",
       "       [157,   1,   1],\n",
       "       [949,   1,   0],\n",
       "       [680,   0,   0],\n",
       "       [277,   1,   0]], dtype=int32)"
      ]
     },
     "execution_count": 7,
     "metadata": {},
     "output_type": "execute_result"
    }
   ],
   "source": [
    "dataset"
   ]
  },
  {
   "cell_type": "code",
   "execution_count": 8,
   "id": "1410f25c",
   "metadata": {},
   "outputs": [
    {
     "data": {
      "text/plain": [
       "array([[1.        , 0.5       , 0.5       ],\n",
       "       [1.        , 0.73105858, 0.73105858],\n",
       "       [1.        , 0.5       , 0.73105858],\n",
       "       [1.        , 0.5       , 0.73105858],\n",
       "       [1.        , 0.5       , 0.73105858],\n",
       "       [1.        , 0.73105858, 0.5       ],\n",
       "       [1.        , 0.73105858, 0.73105858],\n",
       "       [1.        , 0.73105858, 0.5       ],\n",
       "       [1.        , 0.5       , 0.5       ],\n",
       "       [1.        , 0.73105858, 0.5       ]])"
      ]
     },
     "execution_count": 8,
     "metadata": {},
     "output_type": "execute_result"
    }
   ],
   "source": [
    "sigmoid_dataset = 1 / (1 + np.exp(-dataset))\n",
    "sigmoid_dataset"
   ]
  }
 ],
 "metadata": {
  "kernelspec": {
   "display_name": "venv",
   "language": "python",
   "name": "python3"
  },
  "language_info": {
   "codemirror_mode": {
    "name": "ipython",
    "version": 3
   },
   "file_extension": ".py",
   "mimetype": "text/x-python",
   "name": "python",
   "nbconvert_exporter": "python",
   "pygments_lexer": "ipython3",
   "version": "3.9.13"
  }
 },
 "nbformat": 4,
 "nbformat_minor": 5
}
