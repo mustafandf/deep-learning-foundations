{
 "cells": [
  {
   "cell_type": "markdown",
   "id": "325e1bbf",
   "metadata": {},
   "source": [
    "Create a 2D matrix of shape (3, 4) with values from 1 to 12\n",
    "\n",
    "Print the matrix, its shape, and transpose of the matrix"
   ]
  },
  {
   "cell_type": "code",
   "execution_count": 1,
   "id": "94467efa",
   "metadata": {},
   "outputs": [],
   "source": [
    "#!pip install numpy"
   ]
  },
  {
   "cell_type": "code",
   "execution_count": 2,
   "id": "c91b5bd0",
   "metadata": {},
   "outputs": [],
   "source": [
    "import numpy as np"
   ]
  },
  {
   "cell_type": "code",
   "execution_count": 3,
   "id": "4b041b04",
   "metadata": {},
   "outputs": [],
   "source": [
    "arr = np.random.randint(1,13,12).reshape(3,4)"
   ]
  },
  {
   "cell_type": "code",
   "execution_count": 4,
   "id": "784874ac",
   "metadata": {},
   "outputs": [
    {
     "data": {
      "text/plain": [
       "array([[ 8,  8, 12,  7],\n",
       "       [10,  6,  3,  1],\n",
       "       [12, 11,  2,  8]], dtype=int32)"
      ]
     },
     "execution_count": 4,
     "metadata": {},
     "output_type": "execute_result"
    }
   ],
   "source": [
    "arr"
   ]
  },
  {
   "cell_type": "code",
   "execution_count": 5,
   "id": "2c0b651a",
   "metadata": {},
   "outputs": [
    {
     "data": {
      "text/plain": [
       "(3, 4)"
      ]
     },
     "execution_count": 5,
     "metadata": {},
     "output_type": "execute_result"
    }
   ],
   "source": [
    "np.shape(arr)"
   ]
  },
  {
   "cell_type": "code",
   "execution_count": 6,
   "id": "e54629fc",
   "metadata": {},
   "outputs": [
    {
     "data": {
      "text/plain": [
       "array([[ 8, 10, 12],\n",
       "       [ 8,  6, 11],\n",
       "       [12,  3,  2],\n",
       "       [ 7,  1,  8]], dtype=int32)"
      ]
     },
     "execution_count": 6,
     "metadata": {},
     "output_type": "execute_result"
    }
   ],
   "source": [
    "arr.T"
   ]
  },
  {
   "cell_type": "code",
   "execution_count": 7,
   "id": "ae7cc0d3",
   "metadata": {},
   "outputs": [
    {
     "data": {
      "text/plain": [
       "(4, 3)"
      ]
     },
     "execution_count": 7,
     "metadata": {},
     "output_type": "execute_result"
    }
   ],
   "source": [
    "np.shape(arr.T)"
   ]
  },
  {
   "cell_type": "markdown",
   "id": "97331e2e",
   "metadata": {},
   "source": [
    "Create a 5x5 matrix with values from 0 to 24\n",
    "Extract:\n",
    "- The 2nd row\n",
    "- The 3rd column\n",
    "- A 3x3 central submatrix"
   ]
  },
  {
   "cell_type": "code",
   "execution_count": 11,
   "id": "143be683",
   "metadata": {},
   "outputs": [],
   "source": [
    "arr_2 = np.random.randint(0,25,25).reshape(5,5)"
   ]
  },
  {
   "cell_type": "code",
   "execution_count": 12,
   "id": "0e02787d",
   "metadata": {},
   "outputs": [
    {
     "data": {
      "text/plain": [
       "array([[ 0,  5, 16, 11,  2],\n",
       "       [ 1, 17, 24, 22, 17],\n",
       "       [ 2,  8,  6,  1, 14],\n",
       "       [12, 19,  7, 21, 21],\n",
       "       [ 7, 15,  5, 12, 18]], dtype=int32)"
      ]
     },
     "execution_count": 12,
     "metadata": {},
     "output_type": "execute_result"
    }
   ],
   "source": [
    "arr_2"
   ]
  },
  {
   "cell_type": "code",
   "execution_count": 14,
   "id": "a21fd4e6",
   "metadata": {},
   "outputs": [
    {
     "data": {
      "text/plain": [
       "array([[ 1, 17, 24, 22, 17]], dtype=int32)"
      ]
     },
     "execution_count": 14,
     "metadata": {},
     "output_type": "execute_result"
    }
   ],
   "source": [
    "arr_2[1:2,:]"
   ]
  },
  {
   "cell_type": "code",
   "execution_count": 15,
   "id": "f654b95a",
   "metadata": {},
   "outputs": [
    {
     "data": {
      "text/plain": [
       "array([[16],\n",
       "       [24],\n",
       "       [ 6],\n",
       "       [ 7],\n",
       "       [ 5]], dtype=int32)"
      ]
     },
     "execution_count": 15,
     "metadata": {},
     "output_type": "execute_result"
    }
   ],
   "source": [
    "arr_2[:,2:3]"
   ]
  },
  {
   "cell_type": "code",
   "execution_count": 18,
   "id": "1acf29ef",
   "metadata": {},
   "outputs": [
    {
     "data": {
      "text/plain": [
       "array([[17, 24, 22],\n",
       "       [ 8,  6,  1],\n",
       "       [19,  7, 21]], dtype=int32)"
      ]
     },
     "execution_count": 18,
     "metadata": {},
     "output_type": "execute_result"
    }
   ],
   "source": [
    "arr_2[1:4,1:4]"
   ]
  },
  {
   "cell_type": "markdown",
   "id": "48eb6827",
   "metadata": {},
   "source": [
    "Create a 1D array with 16 elements\n",
    "Reshape it into:\n",
    "- a 4x4 matrix\n",
    "- a 2x8 matrix\n",
    "\n",
    "Print both"
   ]
  },
  {
   "cell_type": "code",
   "execution_count": 24,
   "id": "7c5ec206",
   "metadata": {},
   "outputs": [],
   "source": [
    "arr3 = np.random.randint(0,100,size=16)"
   ]
  },
  {
   "cell_type": "code",
   "execution_count": 26,
   "id": "71e15ce7",
   "metadata": {},
   "outputs": [
    {
     "data": {
      "text/plain": [
       "array([[43, 87, 26, 49],\n",
       "       [99, 49, 32, 33],\n",
       "       [95, 56, 81, 37],\n",
       "       [68, 45,  6,  5]], dtype=int32)"
      ]
     },
     "execution_count": 26,
     "metadata": {},
     "output_type": "execute_result"
    }
   ],
   "source": [
    "arr3.reshape(4,4)"
   ]
  },
  {
   "cell_type": "code",
   "execution_count": 27,
   "id": "71158806",
   "metadata": {},
   "outputs": [
    {
     "data": {
      "text/plain": [
       "array([[43, 87, 26, 49, 99, 49, 32, 33],\n",
       "       [95, 56, 81, 37, 68, 45,  6,  5]], dtype=int32)"
      ]
     },
     "execution_count": 27,
     "metadata": {},
     "output_type": "execute_result"
    }
   ],
   "source": [
    "arr3.reshape(2,8)"
   ]
  },
  {
   "cell_type": "markdown",
   "id": "28cc5146",
   "metadata": {},
   "source": [
    "Create a 3x3 matrix of all ones\n",
    "\n",
    "Create a 1D array: [1, 2, 3]\n",
    "\n",
    "Add the 1D array to the matrix (broadcasting)"
   ]
  },
  {
   "cell_type": "code",
   "execution_count": 33,
   "id": "f842e408",
   "metadata": {},
   "outputs": [],
   "source": [
    "ones = np.ones((3,3))"
   ]
  },
  {
   "cell_type": "code",
   "execution_count": 34,
   "id": "9fc3e7d4",
   "metadata": {},
   "outputs": [],
   "source": [
    "arr_1d = np.array([1,2,3])"
   ]
  },
  {
   "cell_type": "code",
   "execution_count": 35,
   "id": "6ea99286",
   "metadata": {},
   "outputs": [
    {
     "data": {
      "text/plain": [
       "array([[2., 3., 4.],\n",
       "       [2., 3., 4.],\n",
       "       [2., 3., 4.]])"
      ]
     },
     "execution_count": 35,
     "metadata": {},
     "output_type": "execute_result"
    }
   ],
   "source": [
    "ones+arr_1d"
   ]
  },
  {
   "cell_type": "markdown",
   "id": "1f4a37cb",
   "metadata": {},
   "source": [
    "Create matrix A of shape (2, 3)\n",
    "\n",
    "Create matrix B of shape (3, 2)\n",
    "\n",
    "Compute and print A @ B (dot product)"
   ]
  },
  {
   "cell_type": "code",
   "execution_count": 38,
   "id": "64cf92d1",
   "metadata": {},
   "outputs": [],
   "source": [
    "A = np.random.randint(0,11,6).reshape(2,3)"
   ]
  },
  {
   "cell_type": "code",
   "execution_count": 39,
   "id": "8e3fb292",
   "metadata": {},
   "outputs": [
    {
     "data": {
      "text/plain": [
       "array([[10,  3,  7],\n",
       "       [ 6,  3,  4]], dtype=int32)"
      ]
     },
     "execution_count": 39,
     "metadata": {},
     "output_type": "execute_result"
    }
   ],
   "source": [
    "A"
   ]
  },
  {
   "cell_type": "code",
   "execution_count": 40,
   "id": "8753f64f",
   "metadata": {},
   "outputs": [],
   "source": [
    "B = np.random.randint(0,11,6).reshape(3,2)"
   ]
  },
  {
   "cell_type": "code",
   "execution_count": 41,
   "id": "956910e9",
   "metadata": {},
   "outputs": [
    {
     "data": {
      "text/plain": [
       "array([[5, 0],\n",
       "       [8, 3],\n",
       "       [7, 8]], dtype=int32)"
      ]
     },
     "execution_count": 41,
     "metadata": {},
     "output_type": "execute_result"
    }
   ],
   "source": [
    "B"
   ]
  },
  {
   "cell_type": "code",
   "execution_count": 42,
   "id": "116c4b4e",
   "metadata": {},
   "outputs": [
    {
     "data": {
      "text/plain": [
       "array([[123,  65],\n",
       "       [ 82,  41]], dtype=int32)"
      ]
     },
     "execution_count": 42,
     "metadata": {},
     "output_type": "execute_result"
    }
   ],
   "source": [
    "np.dot(A,B)"
   ]
  },
  {
   "cell_type": "markdown",
   "id": "74b1d507",
   "metadata": {},
   "source": [
    "Generate a random matrix of shape (3, 3)\n",
    "\n",
    "Apply sigmoid activation: 1 / (1 + exp(-x)) to each element"
   ]
  },
  {
   "cell_type": "code",
   "execution_count": 43,
   "id": "7697f114",
   "metadata": {},
   "outputs": [],
   "source": [
    "arr_rand = np.random.randint(0,11,9).reshape(3,3)"
   ]
  },
  {
   "cell_type": "code",
   "execution_count": 44,
   "id": "858a8b30",
   "metadata": {},
   "outputs": [
    {
     "data": {
      "text/plain": [
       "array([[ 1,  6,  9],\n",
       "       [10,  1,  8],\n",
       "       [ 4, 10,  8]], dtype=int32)"
      ]
     },
     "execution_count": 44,
     "metadata": {},
     "output_type": "execute_result"
    }
   ],
   "source": [
    "arr_rand"
   ]
  },
  {
   "cell_type": "code",
   "execution_count": 45,
   "id": "69fdea61",
   "metadata": {},
   "outputs": [
    {
     "data": {
      "text/plain": [
       "array([[0.73105858, 0.99752738, 0.99987661],\n",
       "       [0.9999546 , 0.73105858, 0.99966465],\n",
       "       [0.98201379, 0.9999546 , 0.99966465]])"
      ]
     },
     "execution_count": 45,
     "metadata": {},
     "output_type": "execute_result"
    }
   ],
   "source": [
    "1/(1+np.exp(-1 * arr_rand))"
   ]
  },
  {
   "cell_type": "markdown",
   "id": "8ab6d99d",
   "metadata": {},
   "source": [
    "X: input of shape (3, 1)\n",
    "\n",
    "W: weights of shape (2, 3)\n",
    "\n",
    "b: bias of shape (2, 1)\n",
    "\n",
    "Compute Z = W.dot(X) + b\n",
    "\n",
    "Apply sigmoid to Z to get A"
   ]
  },
  {
   "cell_type": "code",
   "execution_count": 55,
   "id": "c661c876",
   "metadata": {},
   "outputs": [
    {
     "data": {
      "text/plain": [
       "array([[1],\n",
       "       [5],\n",
       "       [0]], dtype=int32)"
      ]
     },
     "execution_count": 55,
     "metadata": {},
     "output_type": "execute_result"
    }
   ],
   "source": [
    "X = np.random.randint(0,11,3).reshape(3,1)\n",
    "X"
   ]
  },
  {
   "cell_type": "code",
   "execution_count": 56,
   "id": "51f21eb6",
   "metadata": {},
   "outputs": [
    {
     "data": {
      "text/plain": [
       "array([[4, 3, 2],\n",
       "       [4, 3, 0]], dtype=int32)"
      ]
     },
     "execution_count": 56,
     "metadata": {},
     "output_type": "execute_result"
    }
   ],
   "source": [
    "W = np.random.randint(0,6,6).reshape(2,3)\n",
    "W"
   ]
  },
  {
   "cell_type": "code",
   "execution_count": 62,
   "id": "c0221241",
   "metadata": {},
   "outputs": [
    {
     "data": {
      "text/plain": [
       "array([[0],\n",
       "       [1]], dtype=int32)"
      ]
     },
     "execution_count": 62,
     "metadata": {},
     "output_type": "execute_result"
    }
   ],
   "source": [
    "B = np.random.randint(0,6,2).reshape(2,1)\n",
    "B"
   ]
  },
  {
   "cell_type": "code",
   "execution_count": 63,
   "id": "b3c8a853",
   "metadata": {},
   "outputs": [
    {
     "data": {
      "text/plain": [
       "array([[19],\n",
       "       [20]], dtype=int32)"
      ]
     },
     "execution_count": 63,
     "metadata": {},
     "output_type": "execute_result"
    }
   ],
   "source": [
    "Z = np.dot(W,X) + B\n",
    "Z"
   ]
  },
  {
   "cell_type": "code",
   "execution_count": 64,
   "id": "9cee5c89",
   "metadata": {},
   "outputs": [
    {
     "data": {
      "text/plain": [
       "array([[0.99999999],\n",
       "       [1.        ]])"
      ]
     },
     "execution_count": 64,
     "metadata": {},
     "output_type": "execute_result"
    }
   ],
   "source": [
    "A = 1/(1+np.exp(-1 * Z))\n",
    "A"
   ]
  },
  {
   "cell_type": "markdown",
   "id": "4837afbe",
   "metadata": {},
   "source": [
    "X: batch of 4 examples, each with 3 features → shape (3, 4)\n",
    "\n",
    "W: weights → shape (2, 3)\n",
    "\n",
    "b: bias → shape (2, 1)\n",
    "\n",
    "Compute Z = W.dot(X) + b\n",
    "Apply ReLU or Sigmoid"
   ]
  },
  {
   "cell_type": "code",
   "execution_count": 76,
   "id": "1e1f1953",
   "metadata": {},
   "outputs": [],
   "source": [
    "X = np.random.randint(0,11,12).reshape(3,4)\n",
    "W = np.random.randint(0,11,6).reshape(2,3)\n",
    "b = np.array([5,5]).reshape(2,1)"
   ]
  },
  {
   "cell_type": "code",
   "execution_count": 78,
   "id": "d81104d4",
   "metadata": {},
   "outputs": [
    {
     "data": {
      "text/plain": [
       "array([[103,  57,  53, 133],\n",
       "       [125,  38,  65, 173]])"
      ]
     },
     "execution_count": 78,
     "metadata": {},
     "output_type": "execute_result"
    }
   ],
   "source": [
    "Z = np.dot(W,X) + b\n",
    "Z"
   ]
  },
  {
   "cell_type": "code",
   "execution_count": 79,
   "id": "ef8803b0",
   "metadata": {},
   "outputs": [
    {
     "data": {
      "text/plain": [
       "array([[1., 1., 1., 1.],\n",
       "       [1., 1., 1., 1.]])"
      ]
     },
     "execution_count": 79,
     "metadata": {},
     "output_type": "execute_result"
    }
   ],
   "source": [
    "#Sigmoid\n",
    "1/(1+np.exp(-1*Z))"
   ]
  },
  {
   "cell_type": "markdown",
   "id": "89b689fc",
   "metadata": {},
   "source": [
    "Softmax"
   ]
  },
  {
   "cell_type": "code",
   "execution_count": 80,
   "id": "f313ce56",
   "metadata": {},
   "outputs": [],
   "source": [
    "def softmax(x, axis):\n",
    "    e_x = np.exp(x - np.max(x, axis=axis, keepdims=True))  # for numerical stability\n",
    "    return e_x / np.sum(e_x, axis=axis, keepdims=True)"
   ]
  },
  {
   "cell_type": "code",
   "execution_count": 81,
   "id": "ad0cb8b1",
   "metadata": {},
   "outputs": [
    {
     "data": {
      "text/plain": [
       "array([[ 1.45088873,  0.122428  , -0.0371761 , -0.80115301],\n",
       "       [-1.33811257, -0.66421111, -1.19801594, -0.97017234],\n",
       "       [ 2.12092384,  0.92881842,  0.76796055, -1.3890554 ]])"
      ]
     },
     "execution_count": 81,
     "metadata": {},
     "output_type": "execute_result"
    }
   ],
   "source": [
    "# Step 1: Create matrix Z of shape (3, 4)\n",
    "Z = np.random.randn(3, 4)  # standard normal distribution\n",
    "Z"
   ]
  },
  {
   "cell_type": "code",
   "execution_count": 82,
   "id": "c314ae0c",
   "metadata": {},
   "outputs": [
    {
     "name": "stdout",
     "output_type": "stream",
     "text": [
      "\n",
      "Softmax along axis=0:\n",
      " [[0.33158824 0.27062272 0.28167227 0.41666947]\n",
      " [0.0203869  0.12323419 0.08822624 0.35187428]\n",
      " [0.64802486 0.60614309 0.63010149 0.23145625]]\n",
      "Sum along axis=0 (should be 1):\n",
      " [1. 1. 1. 1.]\n"
     ]
    }
   ],
   "source": [
    "# Step 2: Apply softmax along axis=0 (columns)\n",
    "softmax_axis0 = softmax(Z, axis=0)\n",
    "print(\"\\nSoftmax along axis=0:\\n\", softmax_axis0)\n",
    "print(\"Sum along axis=0 (should be 1):\\n\", np.sum(softmax_axis0, axis=0))"
   ]
  },
  {
   "cell_type": "code",
   "execution_count": 83,
   "id": "bc6e7f84",
   "metadata": {},
   "outputs": [
    {
     "name": "stdout",
     "output_type": "stream",
     "text": [
      "\n",
      "Softmax along axis=1:\n",
      " [[0.62661426 0.16598052 0.14149527 0.06590995]\n",
      " [0.17995265 0.3530449  0.20701483 0.25998762]\n",
      " [0.62815958 0.19069758 0.16236241 0.01878042]]\n",
      "Sum along axis=1 (should be 1):\n",
      " [1. 1. 1.]\n"
     ]
    }
   ],
   "source": [
    "# Step 3: Apply softmax along axis=1 (rows)\n",
    "softmax_axis1 = softmax(Z, axis=1)\n",
    "print(\"\\nSoftmax along axis=1:\\n\", softmax_axis1)\n",
    "print(\"Sum along axis=1 (should be 1):\\n\", np.sum(softmax_axis1, axis=1))"
   ]
  },
  {
   "cell_type": "markdown",
   "id": "5f80d339",
   "metadata": {},
   "source": [
    "Given predictions A and true labels Y (both shape: (1, 4))\n",
    "\n",
    "Calculate binary cross-entropy loss:\n",
    "\n",
    "-loss = mean(Y * log(A) + (1 - Y) * log(1 - A))"
   ]
  },
  {
   "cell_type": "code",
   "execution_count": 92,
   "id": "dec85204",
   "metadata": {},
   "outputs": [],
   "source": [
    "A = np.array([0.99,0.04,0.68,0.1]).reshape(1,4)\n",
    "Y = np.array([1,0,1,0])"
   ]
  },
  {
   "cell_type": "code",
   "execution_count": 93,
   "id": "d276a88c",
   "metadata": {},
   "outputs": [],
   "source": [
    "loss = -1 * np.mean(Y*np.log(A)+(1-Y)*np.log(1-A))"
   ]
  },
  {
   "cell_type": "code",
   "execution_count": 94,
   "id": "6164d0ee",
   "metadata": {},
   "outputs": [
    {
     "data": {
      "text/plain": [
       "np.float64(0.1354738317108919)"
      ]
     },
     "execution_count": 94,
     "metadata": {},
     "output_type": "execute_result"
    }
   ],
   "source": [
    "loss"
   ]
  }
 ],
 "metadata": {
  "kernelspec": {
   "display_name": "venv",
   "language": "python",
   "name": "python3"
  },
  "language_info": {
   "codemirror_mode": {
    "name": "ipython",
    "version": 3
   },
   "file_extension": ".py",
   "mimetype": "text/x-python",
   "name": "python",
   "nbconvert_exporter": "python",
   "pygments_lexer": "ipython3",
   "version": "3.9.13"
  }
 },
 "nbformat": 4,
 "nbformat_minor": 5
}
