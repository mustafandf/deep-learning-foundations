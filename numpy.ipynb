{
 "cells": [
  {
   "cell_type": "markdown",
   "id": "325e1bbf",
   "metadata": {},
   "source": [
    "# Create a 2D matrix of shape (3, 4) with values from 1 to 12\n",
    "# Print the matrix, its shape, and transpose of the matrix"
   ]
  },
  {
   "cell_type": "code",
   "execution_count": 1,
   "id": "94467efa",
   "metadata": {},
   "outputs": [
    {
     "name": "stdout",
     "output_type": "stream",
     "text": [
      "Collecting numpy\n",
      "  Using cached numpy-2.0.2-cp39-cp39-win_amd64.whl (15.9 MB)\n",
      "Installing collected packages: numpy\n",
      "Successfully installed numpy-2.0.2\n"
     ]
    },
    {
     "name": "stderr",
     "output_type": "stream",
     "text": [
      "WARNING: You are using pip version 22.0.4; however, version 25.1.1 is available.\n",
      "You should consider upgrading via the 'C:\\Users\\z004fy1k\\Desktop\\DL\\github-repos\\deep-learning-foundations\\venv\\Scripts\\python.exe -m pip install --upgrade pip' command.\n"
     ]
    }
   ],
   "source": [
    "!pip install numpy"
   ]
  },
  {
   "cell_type": "code",
   "execution_count": 2,
   "id": "c91b5bd0",
   "metadata": {},
   "outputs": [],
   "source": [
    "import numpy as np"
   ]
  },
  {
   "cell_type": "code",
   "execution_count": 6,
   "id": "4b041b04",
   "metadata": {},
   "outputs": [],
   "source": [
    "arr = np.random.randint(0,12,12)"
   ]
  },
  {
   "cell_type": "code",
   "execution_count": 7,
   "id": "784874ac",
   "metadata": {},
   "outputs": [
    {
     "data": {
      "text/plain": [
       "array([[ 1, 10,  7, 11],\n",
       "       [ 4,  3,  6,  7],\n",
       "       [10,  6,  5, 10]], dtype=int32)"
      ]
     },
     "execution_count": 7,
     "metadata": {},
     "output_type": "execute_result"
    }
   ],
   "source": [
    "arr.reshape(3,4)"
   ]
  }
 ],
 "metadata": {
  "kernelspec": {
   "display_name": "venv",
   "language": "python",
   "name": "python3"
  },
  "language_info": {
   "codemirror_mode": {
    "name": "ipython",
    "version": 3
   },
   "file_extension": ".py",
   "mimetype": "text/x-python",
   "name": "python",
   "nbconvert_exporter": "python",
   "pygments_lexer": "ipython3",
   "version": "3.9.13"
  }
 },
 "nbformat": 4,
 "nbformat_minor": 5
}
