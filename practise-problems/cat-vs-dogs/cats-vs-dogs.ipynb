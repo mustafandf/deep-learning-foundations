{
 "cells": [
  {
   "cell_type": "code",
   "execution_count": null,
   "id": "6b08e3ba",
   "metadata": {},
   "outputs": [
    {
     "name": "stdout",
     "output_type": "stream",
     "text": [
      "Collecting pillow\n",
      "  Using cached pillow-11.2.1-cp39-cp39-win_amd64.whl (2.7 MB)\n",
      "Installing collected packages: pillow\n",
      "Successfully installed pillow-11.2.1\n"
     ]
    },
    {
     "name": "stderr",
     "output_type": "stream",
     "text": [
      "WARNING: You are using pip version 22.0.4; however, version 25.1.1 is available.\n",
      "You should consider upgrading via the 'C:\\Users\\z004fy1k\\Desktop\\DL\\github-repos\\deep-learning-foundations\\venv\\Scripts\\python.exe -m pip install --upgrade pip' command.\n"
     ]
    }
   ],
   "source": [
    "# !pip install pillow"
   ]
  },
  {
   "cell_type": "code",
   "execution_count": 11,
   "id": "d96cae7b",
   "metadata": {},
   "outputs": [],
   "source": [
    "import os\n",
    "from PIL import Image\n",
    "import numpy as np"
   ]
  },
  {
   "cell_type": "code",
   "execution_count": 39,
   "id": "df2578b1",
   "metadata": {},
   "outputs": [],
   "source": [
    "input_folder = 'C:\\\\Users\\\\z004fy1k\\\\Downloads\\\\dogs-vs-cats\\\\train\\\\train'\n",
    "output_folder = 'C:\\\\Users\\\\z004fy1k\\\\Downloads\\\\dogs-vs-cats\\\\train\\\\resized'\n",
    "\n",
    "image_arrays = []\n",
    "os.makedirs(output_folder, exist_ok = True)\n",
    "\n",
    "for filename in os.listdir(input_folder)[0:10]:\n",
    "    if filename.lower().endswith(('.png', '.jpg', '.jpeg')):\n",
    "        img_path = os.path.join(input_folder, filename)\n",
    "        img = Image.open(img_path).convert('RGB')\n",
    "        img = img.resize((128, 128), Image.Resampling.LANCZOS)\n",
    "        img.save(os.path.join(output_folder, filename))\n",
    "        img_array = np.array(img)\n",
    "        image_arrays.append(img_array)"
   ]
  },
  {
   "cell_type": "code",
   "execution_count": 44,
   "id": "935335e5",
   "metadata": {},
   "outputs": [],
   "source": [
    "X = image_arrays"
   ]
  },
  {
   "cell_type": "code",
   "execution_count": 46,
   "id": "4dc359c9",
   "metadata": {},
   "outputs": [
    {
     "data": {
      "text/plain": [
       "(10, 128, 128, 3)"
      ]
     },
     "execution_count": 46,
     "metadata": {},
     "output_type": "execute_result"
    }
   ],
   "source": [
    "np.shape(X)"
   ]
  },
  {
   "cell_type": "code",
   "execution_count": 48,
   "id": "c8b23e3c",
   "metadata": {},
   "outputs": [],
   "source": [
    "X = np.reshape(X,(128*128*3,-1))"
   ]
  },
  {
   "cell_type": "code",
   "execution_count": 49,
   "id": "ad0e715e",
   "metadata": {},
   "outputs": [
    {
     "data": {
      "text/plain": [
       "(49152, 10)"
      ]
     },
     "execution_count": 49,
     "metadata": {},
     "output_type": "execute_result"
    }
   ],
   "source": [
    "np.shape(X)"
   ]
  },
  {
   "cell_type": "code",
   "execution_count": null,
   "id": "9f10c45d",
   "metadata": {},
   "outputs": [],
   "source": [
    "# Calculate the sigmoid\n",
    "def sigmoid(z):\n",
    "    return 1 / (1 + np.exp(-z))"
   ]
  },
  {
   "cell_type": "code",
   "execution_count": 36,
   "id": "5b3cb97e",
   "metadata": {},
   "outputs": [],
   "source": [
    "# Forward & Backward Propagation\n",
    "def propagate(w, b, X, Y):\n",
    "    m = X.shape[0]\n",
    "\n",
    "    A = sigmoid(np.dot(w.T,X) + b)\n",
    "    cost = (-1/m) * np.sum(Y * np.log(A) + (1 - Y)*np.log(1 - A))\n",
    "\n",
    "    dw = (1/m) * np.dot(X, (A - Y).T)\n",
    "    db = (1/m) * np.sum(A- Y)\n",
    "\n",
    "    grads = {\"dw\":dw,\"db\":db}\n",
    "\n",
    "    return cost, grads"
   ]
  },
  {
   "cell_type": "code",
   "execution_count": 37,
   "id": "abb80004",
   "metadata": {},
   "outputs": [],
   "source": [
    "def optimize(w, b, X, Y, num_iterations, learning_rate):\n",
    "    for i in range(num_iterations):\n",
    "        cost, grads = propagate(w, b, X, Y)\n",
    "\n",
    "        w -= learning_rate * grads[\"dw\"]\n",
    "        b -= learning_rate * grads[\"db\"]\n",
    "\n",
    "        if(i % 20 == 0):\n",
    "            print(f'Cost after {i} iterations: {cost}')"
   ]
  },
  {
   "cell_type": "code",
   "execution_count": 33,
   "id": "4f402d18",
   "metadata": {},
   "outputs": [],
   "source": [
    "def predict(w, b, X):\n",
    "    A = sigmoid(np.dot(w.T, X) + b)\n",
    "    Y_prediction = (A > 0.5).astype(int)\n",
    "    return Y_prediction"
   ]
  },
  {
   "cell_type": "code",
   "execution_count": null,
   "id": "17aba095",
   "metadata": {},
   "outputs": [],
   "source": []
  }
 ],
 "metadata": {
  "kernelspec": {
   "display_name": "venv",
   "language": "python",
   "name": "python3"
  },
  "language_info": {
   "codemirror_mode": {
    "name": "ipython",
    "version": 3
   },
   "file_extension": ".py",
   "mimetype": "text/x-python",
   "name": "python",
   "nbconvert_exporter": "python",
   "pygments_lexer": "ipython3",
   "version": "3.9.13"
  }
 },
 "nbformat": 4,
 "nbformat_minor": 5
}
